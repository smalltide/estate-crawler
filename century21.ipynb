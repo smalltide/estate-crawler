{
 "cells": [
  {
   "cell_type": "code",
   "execution_count": 88,
   "metadata": {
    "collapsed": false
   },
   "outputs": [],
   "source": [
    "import requests\n",
    "from bs4 import BeautifulSoup\n",
    "import pandas\n",
    "\n",
    "r = requests.get(\"http://www.pythonhow.com/real-estate/rock-springs-wy/LCWYROCKSPRINGS/\")\n",
    "c = r.content\n",
    "soup = BeautifulSoup(c, \"html.parser\")\n",
    "all = soup.find_all(\"div\", {\"class\": \"propertyRow\"})\n",
    "l = []\n",
    "for item in all:\n",
    "    d = {}\n",
    "    d[\"Address\"] = item.find_all(\"span\", {\"class\": \"propAddressCollapse\"})[0].text\n",
    "    d[\"Locality\"] = item.find_all(\"span\", {\"class\": \"propAddressCollapse\"})[1].text\n",
    "    d[\"Price\"] = item.find(\"h4\", {\"class\": \"propPrice\"}).text.replace(\"\\n\", \"\").replace(\" \", \"\")\n",
    "    \n",
    "    d[\"Beds\"] = item.find(\"span\", {\"class\": \"infoBed\"}).find(\"b\").text if item.find(\"span\", {\"class\": \"infoBed\"}) else \"None\"\n",
    "    d[\"Area\"] = item.find(\"span\", {\"class\": \"infoSqFt\"}).find(\"b\").text if item.find(\"span\", {\"class\": \"infoSqFt\"}) else \"None\"\n",
    "    d[\"Full Baths\"] = item.find(\"span\", {\"class\": \"infoValueFullBath\"}).find(\"b\").text if item.find(\"span\", {\"class\": \"infoValueFullBath\"}) else \"None\"\n",
    "    d[\"Half Baths\"] = item.find(\"span\", {\"class\": \"infoValueHalfBath\"}).find(\"b\").text if item.find(\"span\", {\"class\": \"infoValueHalfBath\"}) else \"None\"\n",
    "    \n",
    "    for column_group in item.find_all(\"div\", {\"class\": \"columnGroup\"}):\n",
    "        for feature_group, feature_name in zip(column_group.find_all(\"span\", {\"class\": \"featureGroup\"}), column_group.find_all(\"span\", {\"class\": \"featureName\"})):\n",
    "            if \"Lot Size\" in feature_group.text:\n",
    "                d[\"Lot Size\"] = feature_name.text\n",
    "    l.append(d)\n",
    "    \n",
    "df = pandas.DataFrame(l)\n",
    "df.to_csv(\"estate.csv\")\n",
    "     "
   ]
  },
  {
   "cell_type": "code",
   "execution_count": null,
   "metadata": {
    "collapsed": true
   },
   "outputs": [],
   "source": []
  }
 ],
 "metadata": {
  "kernelspec": {
   "display_name": "Python 3",
   "language": "python",
   "name": "python3"
  },
  "language_info": {
   "codemirror_mode": {
    "name": "ipython",
    "version": 3
   },
   "file_extension": ".py",
   "mimetype": "text/x-python",
   "name": "python",
   "nbconvert_exporter": "python",
   "pygments_lexer": "ipython3",
   "version": "3.6.0"
  }
 },
 "nbformat": 4,
 "nbformat_minor": 2
}
